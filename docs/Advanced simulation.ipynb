{
 "cells": [
  {
   "cell_type": "markdown",
   "metadata": {},
   "source": [
    "# Advanced simulation"
   ]
  },
  {
   "cell_type": "markdown",
   "metadata": {},
   "source": [
    "In essence, a Model object is able to change the state of the system given a sample and evaluate certain metrics."
   ]
  },
  {
   "cell_type": "markdown",
   "metadata": {},
   "source": [
    "![1](Model_Simple_UML.png \"Model Simple UML\")"
   ]
  },
  {
   "cell_type": "markdown",
   "metadata": {},
   "source": [
    "Model object are able to cut simulation time in half by sorting the samples to minimize perturbations to the system between simulations. They also simulate only affected areas of the biorefinery. All this is done with the help of Block and Parameter objects that are able to tell the relative importance of parameters through the `element` it affects and the `kind` (how it affects the system).\n"
   ]
  },
  {
   "cell_type": "markdown",
   "metadata": {},
   "source": [
    "![2](Model_UML.png \"Model UML\")"
   ]
  },
  {
   "cell_type": "markdown",
   "metadata": {},
   "source": [
    "The following examples show how Model objects can be used."
   ]
  },
  {
   "cell_type": "markdown",
   "metadata": {},
   "source": [
    "### Create a model object"
   ]
  },
  {
   "cell_type": "markdown",
   "metadata": {},
   "source": [
    "**Model objects are used to evaluate metrics around multiple parameters of a system.**"
   ]
  },
  {
   "cell_type": "markdown",
   "metadata": {},
   "source": [
    "Create a Model object of the lipidcane biorefinery with internal rate of return as a metric:"
   ]
  },
  {
   "cell_type": "code",
   "execution_count": 1,
   "metadata": {},
   "outputs": [],
   "source": [
    "# Make sure you \"pip install lipidcane\" before trying this example\n",
    "import lipidcane as lc\n",
    "import biosteam as bst\n",
    "solve_IRR = lc.lipidcane_tea.solve_IRR\n",
    "model = bst.evaluation.Model(system=lc.lipidcane_sys,\n",
    "                             IRR=solve_IRR)\n"
   ]
  },
  {
   "cell_type": "markdown",
   "metadata": {},
   "source": [
    "The Model object begins with no paramters: "
   ]
  },
  {
   "cell_type": "code",
   "execution_count": 2,
   "metadata": {},
   "outputs": [
    {
     "name": "stdout",
     "output_type": "stream",
     "text": [
      "Model: IRR\n",
      " (No parameters)\n"
     ]
    }
   ],
   "source": [
    "model"
   ]
  },
  {
   "cell_type": "markdown",
   "metadata": {},
   "source": [
    "Note: Here we defined only one metric, but more are possible."
   ]
  },
  {
   "cell_type": "markdown",
   "metadata": {},
   "source": [
    "### Add design parameters"
   ]
  },
  {
   "cell_type": "markdown",
   "metadata": {},
   "source": [
    "**A design parameter is a Unit attribute that changes design requirements but does not affect mass and energy balances.**"
   ]
  },
  {
   "cell_type": "markdown",
   "metadata": {},
   "source": [
    "Add number of fermentation reactors as a \"design\" parameter:"
   ]
  },
  {
   "cell_type": "code",
   "execution_count": 3,
   "metadata": {},
   "outputs": [],
   "source": [
    "U34 = bst.find.unit.U34 # The Fermentation Unit\n",
    "@model.parameter(element=U34, kind='design', name='Number of reactors')\n",
    "def set_N_reactors(N):\n",
    "    U34.N = N"
   ]
  },
  {
   "cell_type": "markdown",
   "metadata": {},
   "source": [
    "The decorator returns a Parameter object and adds it to the model:"
   ]
  },
  {
   "cell_type": "code",
   "execution_count": 4,
   "metadata": {},
   "outputs": [
    {
     "data": {
      "text/plain": [
       "<Parameter: [Fermentation-U34] Number of reactors>"
      ]
     },
     "execution_count": 4,
     "metadata": {},
     "output_type": "execute_result"
    }
   ],
   "source": [
    "set_N_reactors"
   ]
  },
  {
   "cell_type": "markdown",
   "metadata": {},
   "source": [
    "Calling a Parameter object will update the parameter and results:"
   ]
  },
  {
   "cell_type": "code",
   "execution_count": 5,
   "metadata": {},
   "outputs": [
    {
     "name": "stdout",
     "output_type": "stream",
     "text": [
      "Puchase cost at 5 reactors: 2280551.033686497\n",
      "Puchase cost at 8 reactors: 2743307.107553875\n"
     ]
    }
   ],
   "source": [
    "set_N_reactors(5)\n",
    "print('Puchase cost at 5 reactors: ' + str(U34.purchase_cost))\n",
    "set_N_reactors(8)\n",
    "print('Puchase cost at 8 reactors: ' + str(U34.purchase_cost))"
   ]
  },
  {
   "cell_type": "markdown",
   "metadata": {},
   "source": [
    "### Add cost parameters"
   ]
  },
  {
   "cell_type": "markdown",
   "metadata": {},
   "source": [
    "**A cost parameter is a Unit attribute that affects cost but does not change design requirements.**"
   ]
  },
  {
   "cell_type": "markdown",
   "metadata": {},
   "source": [
    "Add the fermentation unit base cost as a \"cost\" parameter:"
   ]
  },
  {
   "cell_type": "code",
   "execution_count": 6,
   "metadata": {},
   "outputs": [],
   "source": [
    "@model.parameter(element=U34, kind='cost') # Note: name argument not given this time\n",
    "def set_base_cost(cost):\n",
    "    U34.cost_items['Reactors'].cost = cost"
   ]
  },
  {
   "cell_type": "code",
   "execution_count": 7,
   "metadata": {},
   "outputs": [
    {
     "name": "stdout",
     "output_type": "stream",
     "text": [
      "Purchase cost at 10 million USD: 21891940.298625156\n",
      "Purchase cost at 844,000 USD: 2743307.107553875\n"
     ]
    }
   ],
   "source": [
    "original = U34.cost_items['Reactors'].cost\n",
    "set_base_cost(10e6)\n",
    "print('Purchase cost at 10 million USD: ' + str(U34.purchase_cost))\n",
    "set_base_cost(844e3)\n",
    "print('Purchase cost at 844,000 USD: ' + str(U34.purchase_cost))"
   ]
  },
  {
   "cell_type": "markdown",
   "metadata": {},
   "source": [
    "If the name was not defined, it defaults to the setter's signature:"
   ]
  },
  {
   "cell_type": "code",
   "execution_count": 8,
   "metadata": {},
   "outputs": [
    {
     "data": {
      "text/plain": [
       "<Parameter: [Fermentation-U34] Cost>"
      ]
     },
     "execution_count": 8,
     "metadata": {},
     "output_type": "execute_result"
    }
   ],
   "source": [
    "set_base_cost"
   ]
  },
  {
   "cell_type": "markdown",
   "metadata": {},
   "source": [
    "### Add isolated parameters"
   ]
  },
  {
   "cell_type": "markdown",
   "metadata": {},
   "source": [
    "**An isolated parameter should not affect Unit objects in any way.**"
   ]
  },
  {
   "cell_type": "markdown",
   "metadata": {},
   "source": [
    "Add feedstock price as a \"isolated\" parameter:"
   ]
  },
  {
   "cell_type": "code",
   "execution_count": 9,
   "metadata": {
    "scrolled": true
   },
   "outputs": [],
   "source": [
    "Lipid_cane = lc.Lipid_cane # The feedstock stream\n",
    "@model.parameter(element=Lipid_cane, kind='isolated')\n",
    "def set_feed_price(feedstock_price):\n",
    "    Lipid_cane.price = feedstock_price"
   ]
  },
  {
   "cell_type": "markdown",
   "metadata": {},
   "source": [
    "### Add coupled parameters"
   ]
  },
  {
   "cell_type": "markdown",
   "metadata": {},
   "source": [
    "**A coupled parameter affects mass and energy balances of the system.**"
   ]
  },
  {
   "cell_type": "markdown",
   "metadata": {},
   "source": [
    "Add lipid fraction as a \"coupled\" parameter:"
   ]
  },
  {
   "cell_type": "code",
   "execution_count": 10,
   "metadata": {},
   "outputs": [],
   "source": [
    "set_lipid_fraction = model.parameter(lc.set_lipid_fraction, element=Lipid_cane, kind='coupled')"
   ]
  },
  {
   "cell_type": "code",
   "execution_count": 11,
   "metadata": {},
   "outputs": [
    {
     "name": "stdout",
     "output_type": "stream",
     "text": [
      "IRR at 10% lipid: 0.20411406235730115\n",
      "IRR at 5% lipid: 0.14360210728640255\n"
     ]
    }
   ],
   "source": [
    "set_lipid_fraction(0.10)\n",
    "print('IRR at 10% lipid: ' + str(solve_IRR()))\n",
    "set_lipid_fraction(0.05)\n",
    "print('IRR at 5% lipid: ' + str(solve_IRR()))"
   ]
  },
  {
   "cell_type": "markdown",
   "metadata": {},
   "source": [
    "Add fermentation efficiency as a \"coupled\" parameter:"
   ]
  },
  {
   "cell_type": "code",
   "execution_count": 12,
   "metadata": {},
   "outputs": [],
   "source": [
    "@model.parameter(element=U34, kind='coupled')\n",
    "def set_fermentation_efficiency(efficiency):\n",
    "    U34.efficiency = efficiency"
   ]
  },
  {
   "cell_type": "markdown",
   "metadata": {},
   "source": [
    "### Evaluate metric given a sample"
   ]
  },
  {
   "cell_type": "markdown",
   "metadata": {},
   "source": [
    "**The model can be called to evaluate a sample of parameters.**"
   ]
  },
  {
   "cell_type": "markdown",
   "metadata": {},
   "source": [
    "All parameters are stored in the model with highly coupled parameters first:"
   ]
  },
  {
   "cell_type": "code",
   "execution_count": 13,
   "metadata": {},
   "outputs": [
    {
     "name": "stdout",
     "output_type": "stream",
     "text": [
      "Model: IRR\n",
      " Element:           Parameter:\n",
      " Stream-Lipid cane  Lipid fraction\n",
      " Fermentation-U34   Efficiency\n",
      "                    Number of reactors\n",
      "                    Cost\n",
      " Stream-Lipid cane  Feedstock price\n"
     ]
    }
   ],
   "source": [
    "model"
   ]
  },
  {
   "cell_type": "markdown",
   "metadata": {},
   "source": [
    "Get all parameters as ordered in the model:"
   ]
  },
  {
   "cell_type": "code",
   "execution_count": 14,
   "metadata": {},
   "outputs": [
    {
     "data": {
      "text/plain": [
       "(<Parameter: [Stream-Lipid cane] Lipid fraction>,\n",
       " <Parameter: [Fermentation-U34] Efficiency>,\n",
       " <Parameter: [Fermentation-U34] Number of reactors>,\n",
       " <Parameter: [Fermentation-U34] Cost>,\n",
       " <Parameter: [Stream-Lipid cane] Feedstock price>)"
      ]
     },
     "execution_count": 14,
     "metadata": {},
     "output_type": "execute_result"
    }
   ],
   "source": [
    "model.get_parameters()"
   ]
  },
  {
   "cell_type": "markdown",
   "metadata": {},
   "source": [
    "Evaluate sample:"
   ]
  },
  {
   "cell_type": "code",
   "execution_count": 15,
   "metadata": {},
   "outputs": [
    {
     "data": {
      "text/plain": [
       "{'IRR': 0.12228739790785803}"
      ]
     },
     "execution_count": 15,
     "metadata": {},
     "output_type": "execute_result"
    }
   ],
   "source": [
    "model([0.05, 0.85, 8, 100000, 0.040])"
   ]
  },
  {
   "cell_type": "markdown",
   "metadata": {},
   "source": [
    "### Evaluate metric across samples"
   ]
  },
  {
   "cell_type": "markdown",
   "metadata": {},
   "source": [
    "Evaluate at give parameter values:"
   ]
  },
  {
   "cell_type": "code",
   "execution_count": 16,
   "metadata": {},
   "outputs": [
    {
     "data": {
      "text/html": [
       "<div>\n",
       "<style scoped>\n",
       "    .dataframe tbody tr th:only-of-type {\n",
       "        vertical-align: middle;\n",
       "    }\n",
       "\n",
       "    .dataframe tbody tr th {\n",
       "        vertical-align: top;\n",
       "    }\n",
       "\n",
       "    .dataframe thead tr th {\n",
       "        text-align: left;\n",
       "    }\n",
       "</style>\n",
       "<table border=\"1\" class=\"dataframe\">\n",
       "  <thead>\n",
       "    <tr>\n",
       "      <th>Element</th>\n",
       "      <th>Stream-Lipid cane</th>\n",
       "      <th colspan=\"3\" halign=\"left\">Fermentation-U34</th>\n",
       "      <th>Stream-Lipid cane</th>\n",
       "      <th>IRR</th>\n",
       "    </tr>\n",
       "    <tr>\n",
       "      <th>Parameter</th>\n",
       "      <th>Lipid fraction</th>\n",
       "      <th>Efficiency</th>\n",
       "      <th>Number of reactors</th>\n",
       "      <th>Cost</th>\n",
       "      <th>Feedstock price</th>\n",
       "      <th></th>\n",
       "    </tr>\n",
       "  </thead>\n",
       "  <tbody>\n",
       "    <tr>\n",
       "      <th>0</th>\n",
       "      <td>0.05</td>\n",
       "      <td>0.85</td>\n",
       "      <td>8</td>\n",
       "      <td>1e+05</td>\n",
       "      <td>0.04</td>\n",
       "      <td>0.127</td>\n",
       "    </tr>\n",
       "    <tr>\n",
       "      <th>1</th>\n",
       "      <td>0.05</td>\n",
       "      <td>0.9</td>\n",
       "      <td>7</td>\n",
       "      <td>1e+05</td>\n",
       "      <td>0.04</td>\n",
       "      <td>0.14</td>\n",
       "    </tr>\n",
       "    <tr>\n",
       "      <th>2</th>\n",
       "      <td>0.09</td>\n",
       "      <td>0.95</td>\n",
       "      <td>8</td>\n",
       "      <td>1e+05</td>\n",
       "      <td>0.042</td>\n",
       "      <td>0.179</td>\n",
       "    </tr>\n",
       "  </tbody>\n",
       "</table>\n",
       "</div>"
      ],
      "text/plain": [
       "Element   Stream-Lipid cane Fermentation-U34                           \\\n",
       "Parameter    Lipid fraction       Efficiency Number of reactors  Cost   \n",
       "0                      0.05             0.85                  8 1e+05   \n",
       "1                      0.05              0.9                  7 1e+05   \n",
       "2                      0.09             0.95                  8 1e+05   \n",
       "\n",
       "Element   Stream-Lipid cane   IRR  \n",
       "Parameter   Feedstock price        \n",
       "0                      0.04 0.127  \n",
       "1                      0.04  0.14  \n",
       "2                     0.042 0.179  "
      ]
     },
     "execution_count": 16,
     "metadata": {},
     "output_type": "execute_result"
    }
   ],
   "source": [
    "import numpy as np\n",
    "samples = np.array([(0.05, 0.85, 8, 100000, 0.040),\n",
    "                    (0.05, 0.90, 7, 100000, 0.040),\n",
    "                    (0.09, 0.95, 8, 100000, 0.042)])\n",
    "model.load_samples(samples)\n",
    "model.evaluate()\n",
    "model.table # All evaluations are stored as a pandas DataFrame"
   ]
  },
  {
   "cell_type": "markdown",
   "metadata": {},
   "source": [
    "Note that coupled parameters are on the left most columns, and are ordered from upstream to downstream (e.g. <Stream: Lipid cane> is upstream from <Fermentation: U34>)"
   ]
  },
  {
   "cell_type": "markdown",
   "metadata": {},
   "source": [
    "### Evaluate multiple metrics"
   ]
  },
  {
   "cell_type": "markdown",
   "metadata": {},
   "source": [
    "Reset the metrics to include total utility cost:"
   ]
  },
  {
   "cell_type": "code",
   "execution_count": 17,
   "metadata": {},
   "outputs": [
    {
     "name": "stdout",
     "output_type": "stream",
     "text": [
      "Model: Internal rate of return (%)\n",
      "       Utility cost (USD/yr)\n",
      " Element:           Parameter:\n",
      " Stream-Lipid cane  Lipid fraction\n",
      " Fermentation-U34   Efficiency\n",
      "                    Number of reactors\n",
      "                    Cost\n",
      " Stream-Lipid cane  Feedstock price\n"
     ]
    }
   ],
   "source": [
    "def total_utility_cost():\n",
    "    \"\"\"Return utility costs in USD/yr\"\"\"\n",
    "    utility_costs = lc.lipidcane_tea.utility_cost # USD/hr\n",
    "    conversion_factor = 24 * lc.lipidcane_tea.options['Operating days']\n",
    "    return utility_costs.sum() * conversion_factor\n",
    "\n",
    "# This time use detailed names for appearance\n",
    "model.reset_metrics(**{'Internal rate of return (%)': lc.lipidcane_tea.solve_IRR,\n",
    "                       'Utility cost (USD/yr)': total_utility_cost})\n",
    "model"
   ]
  },
  {
   "cell_type": "code",
   "execution_count": 18,
   "metadata": {},
   "outputs": [
    {
     "data": {
      "text/html": [
       "<div>\n",
       "<style scoped>\n",
       "    .dataframe tbody tr th:only-of-type {\n",
       "        vertical-align: middle;\n",
       "    }\n",
       "\n",
       "    .dataframe tbody tr th {\n",
       "        vertical-align: top;\n",
       "    }\n",
       "\n",
       "    .dataframe thead tr th {\n",
       "        text-align: left;\n",
       "    }\n",
       "</style>\n",
       "<table border=\"1\" class=\"dataframe\">\n",
       "  <thead>\n",
       "    <tr>\n",
       "      <th>Element</th>\n",
       "      <th>Stream-Lipid cane</th>\n",
       "      <th colspan=\"3\" halign=\"left\">Fermentation-U34</th>\n",
       "      <th>Stream-Lipid cane</th>\n",
       "      <th>Internal rate of return (%)</th>\n",
       "      <th>Utility cost (USD/yr)</th>\n",
       "    </tr>\n",
       "    <tr>\n",
       "      <th>Parameter</th>\n",
       "      <th>Lipid fraction</th>\n",
       "      <th>Efficiency</th>\n",
       "      <th>Number of reactors</th>\n",
       "      <th>Cost</th>\n",
       "      <th>Feedstock price</th>\n",
       "      <th></th>\n",
       "      <th></th>\n",
       "    </tr>\n",
       "  </thead>\n",
       "  <tbody>\n",
       "    <tr>\n",
       "      <th>0</th>\n",
       "      <td>0.05</td>\n",
       "      <td>0.85</td>\n",
       "      <td>8</td>\n",
       "      <td>1e+05</td>\n",
       "      <td>0.04</td>\n",
       "      <td>0.0978</td>\n",
       "      <td>-1.77e+07</td>\n",
       "    </tr>\n",
       "    <tr>\n",
       "      <th>1</th>\n",
       "      <td>0.05</td>\n",
       "      <td>0.9</td>\n",
       "      <td>7</td>\n",
       "      <td>1e+05</td>\n",
       "      <td>0.04</td>\n",
       "      <td>0.131</td>\n",
       "      <td>-1.64e+07</td>\n",
       "    </tr>\n",
       "    <tr>\n",
       "      <th>2</th>\n",
       "      <td>0.09</td>\n",
       "      <td>0.95</td>\n",
       "      <td>8</td>\n",
       "      <td>1e+05</td>\n",
       "      <td>0.042</td>\n",
       "      <td>0.175</td>\n",
       "      <td>-2.37e+07</td>\n",
       "    </tr>\n",
       "  </tbody>\n",
       "</table>\n",
       "</div>"
      ],
      "text/plain": [
       "Element   Stream-Lipid cane Fermentation-U34                           \\\n",
       "Parameter    Lipid fraction       Efficiency Number of reactors  Cost   \n",
       "0                      0.05             0.85                  8 1e+05   \n",
       "1                      0.05              0.9                  7 1e+05   \n",
       "2                      0.09             0.95                  8 1e+05   \n",
       "\n",
       "Element   Stream-Lipid cane Internal rate of return (%) Utility cost (USD/yr)  \n",
       "Parameter   Feedstock price                                                    \n",
       "0                      0.04                      0.0978             -1.77e+07  \n",
       "1                      0.04                       0.131             -1.64e+07  \n",
       "2                     0.042                       0.175             -2.37e+07  "
      ]
     },
     "execution_count": 18,
     "metadata": {},
     "output_type": "execute_result"
    }
   ],
   "source": [
    "model.evaluate()\n",
    "model.table"
   ]
  }
 ],
 "metadata": {
  "kernelspec": {
   "display_name": "Python 3",
   "language": "python",
   "name": "python3"
  },
  "language_info": {
   "codemirror_mode": {
    "name": "ipython",
    "version": 3
   },
   "file_extension": ".py",
   "mimetype": "text/x-python",
   "name": "python",
   "nbconvert_exporter": "python",
   "pygments_lexer": "ipython3",
   "version": "3.6.5"
  }
 },
 "nbformat": 4,
 "nbformat_minor": 2
}
